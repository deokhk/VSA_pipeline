{
 "cells": [
  {
   "cell_type": "code",
   "execution_count": 1,
   "id": "1dc1c615-a81c-4046-85e3-db742ca5051d",
   "metadata": {},
   "outputs": [],
   "source": [
    "import torch\n",
    "import cv2"
   ]
  },
  {
   "cell_type": "markdown",
   "id": "cf17b784-dca6-4f05-bdc2-b7e0d5230933",
   "metadata": {},
   "source": [
    "# Import pipeline from sample script"
   ]
  },
  {
   "cell_type": "code",
   "execution_count": 2,
   "id": "3018d5cc-fffc-4113-8434-92517cf14cc3",
   "metadata": {},
   "outputs": [],
   "source": [
    "# import the necessary packages\n",
    "import numpy as np\n",
    "import argparse\n",
    "import sys\n",
    "import cv2"
   ]
  },
  {
   "cell_type": "code",
   "execution_count": 3,
   "id": "c7ec692e-0cea-4c20-b402-1d2ba02927a7",
   "metadata": {},
   "outputs": [],
   "source": [
    "names = \"/nvdli-nano/data/action_recognition_kinetics.txt\"\n",
    "model = \"/nvdli-nano/data/resnet-34_kinetics.onnx\""
   ]
  },
  {
   "cell_type": "code",
   "execution_count": 4,
   "id": "60d907c9-da8f-4a62-a3c2-61485d330abe",
   "metadata": {},
   "outputs": [],
   "source": [
    "with open(names) as l:\n",
    "    CLASSES = l.read().strip().split(\"\\n\")"
   ]
  },
  {
   "cell_type": "code",
   "execution_count": 5,
   "id": "ab023dd9-12fc-4cb6-8e0f-a40bfc43baac",
   "metadata": {},
   "outputs": [],
   "source": [
    "# load the contents of the class labels file, then define the sample\n",
    "# duration (i.e., # of frames for classification) and sample size\n",
    "# (i.e., the spatial dimensions of the frame)\n",
    "# The number of frame to sample from one second\n",
    "SAMPLE_DURATION = 16\n",
    "SAMPLE_FRAME_RATE = 30\n",
    "SAMPLE_SIZE = 112"
   ]
  },
  {
   "cell_type": "code",
   "execution_count": 6,
   "id": "12458ecb-27cb-47c8-8602-80a56c9b4c72",
   "metadata": {},
   "outputs": [
    {
     "name": "stdout",
     "output_type": "stream",
     "text": [
      "[INFO] loading human activity recognition model...\n"
     ]
    }
   ],
   "source": [
    "# load the human activity recognition model\n",
    "print(\"[INFO] loading human activity recognition model...\")\n",
    "net = cv2.dnn.readNet(model)"
   ]
  },
  {
   "cell_type": "code",
   "execution_count": 7,
   "id": "8ee05bdf-7a82-44b9-817f-ff902ac488ff",
   "metadata": {},
   "outputs": [],
   "source": [
    "# initialize the list / dictionaries to captured classified frames\n",
    "frame_and_metadatas = []\n",
    "n = 0"
   ]
  },
  {
   "cell_type": "code",
   "execution_count": 8,
   "id": "c5bfe3c4-b635-45e0-b98c-c3a5c2e007fe",
   "metadata": {},
   "outputs": [],
   "source": [
    "from jetcam.csi_camera import CSICamera\n",
    "fps_origin = 30\n",
    "#camera = CSICamera(width=224, height=224)\n",
    "\n",
    "camera = CSICamera(width=400, height=225, capture_width=1280, capture_height=720, capture_fps=fps_origin)"
   ]
  },
  {
   "cell_type": "code",
   "execution_count": null,
   "id": "478aa7e5-2082-41ad-9f9d-15a115887865",
   "metadata": {},
   "outputs": [],
   "source": [
    "# Run the model\n",
    "# loop until we explicitly break from it\n",
    "from google.colab.patches import cv2_imshow\n",
    "\n",
    "assert SAMPLE_FRAME_RATE <= fps_origin, \"sample frame rate should be less than or equal to the original video fps\"\n",
    "sample_period = int(fps_origin / SAMPLE_FRAME_RATE)\n",
    "   \n",
    "size = (400, 225)\n",
    "\n",
    "result = cv2.VideoWriter('video_with_label.mp4', \n",
    "                         cv2.VideoWriter_fourcc(*'MP4V'),\n",
    "                         10, size)\n",
    "processed = 0\n",
    "while True:\n",
    "  # initialize the batch of frames that will be passed through the model\n",
    "  frames = []\n",
    "\n",
    "  n += 1\n",
    "    \n",
    "  # loop over the number of required sample frames\n",
    "  for i in range(0, SAMPLE_DURATION*sample_period):\n",
    "    # read a frame from the video stream\n",
    "    frame = camera.read()\n",
    "    # We only sample portion of frames to match the desired fps.\n",
    "    if i % sample_period != 0:\n",
    "        continue\n",
    "\n",
    "    #Identiy the frame number\n",
    "    pos_frame = vs.get(cv2.CAP_PROP_POS_FRAMES) / sample_period\n",
    "    # if the frame was not grabbed then we've reached the end of\n",
    "    # the video stream so exit the script\n",
    "    if not grabbed:\n",
    "      print(\"[INFO] no frame read from stream - exiting\")\n",
    "      sys.exit(0)\n",
    "    # otherwise, the frame was read so resize it and add it to\n",
    "    # our frames list\n",
    "    frame = imutils.resize(frame, width=400)\n",
    "    frames.append(frame)\n",
    "  \n",
    "  # now that our frames array is filled we can construct our blob\n",
    "  blob = cv2.dnn.blobFromImages(frames, 1.0, (SAMPLE_SIZE, SAMPLE_SIZE), (114.7748, 107.7354, 99.4750), \n",
    "                                swapRB=True, crop=True)\n",
    "  blob = np.transpose(blob, (1, 0, 2, 3))\n",
    "  blob = np.expand_dims(blob, axis=0)\n",
    "  print(blob.shape)\n",
    "  # pass the blob through the network to obtain our human activity\n",
    "  # recognition predictions\n",
    "  net.setInput(blob)\n",
    "  outputs = net.forward()\n",
    "  label = CLASSES[np.argmax(outputs)]\n",
    "  \n",
    "  \n",
    "  #capture the frames and labels for future database search engine \n",
    "  if label.strip() not in category2group:\n",
    "    group = \"others\"\n",
    "  else:\n",
    "    group = category2group[label.strip()]\n",
    "\n",
    "\n",
    "  # loop over our frames\n",
    "  for frame in frames:\n",
    "    # draw the predicted activity on the frame\n",
    "    cv2.rectangle(frame, (0, 0), (300, 40), (0, 0, 0), -1) #300, 40\n",
    "    cv2.putText(frame, label, (10, 25), cv2.FONT_HERSHEY_SIMPLEX, 0.8, (255, 255, 255), 2)\n",
    "    # display the frame to our screen\n",
    "    cv2_imshow(frame) # colab이 아닌 그냥 Ipynb에서는 cv.imshow() 쓰면 돼요\n",
    "    result.write(frame) # Unf\n",
    "    meta_dict = {\"image\":frame, \"label\":label, \"pos\":processed, \"group\":group}\n",
    "    frame_and_metadatas.append(meta_dict)\n",
    "\n",
    "    processed +=1\n",
    "\n",
    "    key = cv2.waitKey(1) & 0xFF\n",
    "    # if the `q` key was pressed, break from the loop\n",
    "    if key == ord(\"q\"):\n",
    "      break"
   ]
  }
 ],
 "metadata": {
  "kernelspec": {
   "display_name": "Python 3",
   "language": "python",
   "name": "python3"
  },
  "language_info": {
   "codemirror_mode": {
    "name": "ipython",
    "version": 3
   },
   "file_extension": ".py",
   "mimetype": "text/x-python",
   "name": "python",
   "nbconvert_exporter": "python",
   "pygments_lexer": "ipython3",
   "version": "3.6.9"
  }
 },
 "nbformat": 4,
 "nbformat_minor": 5
}
